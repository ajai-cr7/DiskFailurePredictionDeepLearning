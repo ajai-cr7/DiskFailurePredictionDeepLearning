{
  "nbformat": 4,
  "nbformat_minor": 0,
  "metadata": {
    "kernelspec": {
      "language": "python",
      "display_name": "Python 3",
      "name": "python3"
    },
    "language_info": {
      "name": "python",
      "version": "3.7.10",
      "mimetype": "text/x-python",
      "codemirror_mode": {
        "name": "ipython",
        "version": 3
      },
      "pygments_lexer": "ipython3",
      "nbconvert_exporter": "python",
      "file_extension": ".py"
    },
    "colab": {
      "name": "notebookb2014-10-23.ipynb",
      "provenance": [],
      "include_colab_link": true
    }
  },
  "cells": [
    {
      "cell_type": "markdown",
      "metadata": {
        "id": "view-in-github",
        "colab_type": "text"
      },
      "source": [
        "<a href=\"https://colab.research.google.com/github/ajai-cr7/DiskFailurePredictionDeepLearning/blob/main/notebookb2014_10_23.ipynb\" target=\"_parent\"><img src=\"https://colab.research.google.com/assets/colab-badge.svg\" alt=\"Open In Colab\"/></a>"
      ]
    },
    {
      "cell_type": "code",
      "metadata": {
        "_uuid": "8f2839f25d086af736a60e9eeb907d3b93b6e0e5",
        "_cell_guid": "b1076dfc-b9ad-4769-8c92-a6c4dae69d19",
        "execution": {
          "iopub.status.busy": "2021-09-29T04:27:33.193778Z",
          "iopub.execute_input": "2021-09-29T04:27:33.194582Z",
          "iopub.status.idle": "2021-09-29T04:27:33.203859Z",
          "shell.execute_reply.started": "2021-09-29T04:27:33.194535Z",
          "shell.execute_reply": "2021-09-29T04:27:33.202560Z"
        },
        "trusted": true,
        "id": "aNucTVFzD2O1"
      },
      "source": [
        "# This Python 3 environment comes with many helpful analytics libraries installed\n",
        "# It is defined by the kaggle/python Docker image: https://github.com/kaggle/docker-python\n",
        "# For example, here's several helpful packages to load\n",
        "\n",
        "import numpy as np # linear algebra\n",
        "import pandas as pd # data processing, CSV file I/O (e.g. pd.read_csv)\n",
        "\n",
        "# Input data files are available in the read-only \"../input/\" directory\n",
        "# For example, running this (by clicking run or pressing Shift+Enter) will list all files under the input directory\n",
        "\n",
        "import os\n",
        "for dirname, _, filenames in os.walk('/kaggle/input'):\n",
        "    for filename in filenames:\n",
        "        print(os.path.join(dirname, filename))\n",
        "\n",
        "# You can write up to 20GB to the current directory (/kaggle/working/) that gets preserved as output when you create a version using \"Save & Run All\" \n",
        "# You can also write temporary files to /kaggle/temp/, but they won't be saved outside of the current session"
      ],
      "execution_count": 1,
      "outputs": []
    },
    {
      "cell_type": "code",
      "metadata": {
        "execution": {
          "iopub.status.busy": "2021-09-29T05:32:14.504614Z",
          "iopub.execute_input": "2021-09-29T05:32:14.504965Z",
          "iopub.status.idle": "2021-09-29T05:32:14.778729Z",
          "shell.execute_reply.started": "2021-09-29T05:32:14.504917Z",
          "shell.execute_reply": "2021-09-29T05:32:14.777794Z"
        },
        "trusted": true,
        "colab": {
          "base_uri": "https://localhost:8080/"
        },
        "id": "LJXo4SKXD2O8",
        "outputId": "212597e6-82c9-490b-925d-c24fc0b9b102"
      },
      "source": [
        "# import necessary modules\n",
        "import pandas as pd\n",
        "import matplotlib.pyplot as plt\n",
        "import numpy as np\n",
        "from sklearn.linear_model import LogisticRegression\n",
        "from sklearn.preprocessing import StandardScaler\n",
        "from sklearn.metrics import confusion_matrix, classification_report\n",
        "\n",
        "# load the data set\n",
        "data = pd.read_csv('/content/2014-10-23.csv')\n",
        "\n",
        "# print info about columns in the dataframe\n",
        "print(data.info())\n"
      ],
      "execution_count": 3,
      "outputs": [
        {
          "output_type": "stream",
          "name": "stdout",
          "text": [
            "<class 'pandas.core.frame.DataFrame'>\n",
            "RangeIndex: 38592 entries, 0 to 38591\n",
            "Data columns (total 85 columns):\n",
            " #   Column                Non-Null Count  Dtype  \n",
            "---  ------                --------------  -----  \n",
            " 0   date                  38592 non-null  object \n",
            " 1   serial_number         38592 non-null  object \n",
            " 2   model                 38592 non-null  object \n",
            " 3   capacity_bytes        38592 non-null  int64  \n",
            " 4   failure               38592 non-null  int64  \n",
            " 5   smart_1_normalized    38592 non-null  int64  \n",
            " 6   smart_1_raw           38592 non-null  int64  \n",
            " 7   smart_2_normalized    22335 non-null  float64\n",
            " 8   smart_2_raw           22335 non-null  float64\n",
            " 9   smart_3_normalized    38592 non-null  int64  \n",
            " 10  smart_3_raw           38592 non-null  int64  \n",
            " 11  smart_4_normalized    38592 non-null  int64  \n",
            " 12  smart_4_raw           38592 non-null  int64  \n",
            " 13  smart_5_normalized    38592 non-null  int64  \n",
            " 14  smart_5_raw           38592 non-null  int64  \n",
            " 15  smart_7_normalized    38592 non-null  int64  \n",
            " 16  smart_7_raw           38592 non-null  int64  \n",
            " 17  smart_8_normalized    22338 non-null  float64\n",
            " 18  smart_8_raw           22338 non-null  float64\n",
            " 19  smart_9_normalized    38592 non-null  int64  \n",
            " 20  smart_9_raw           38592 non-null  int64  \n",
            " 21  smart_10_normalized   38592 non-null  int64  \n",
            " 22  smart_10_raw          38592 non-null  int64  \n",
            " 23  smart_11_normalized   1838 non-null   float64\n",
            " 24  smart_11_raw          1838 non-null   float64\n",
            " 25  smart_12_normalized   38592 non-null  int64  \n",
            " 26  smart_12_raw          38592 non-null  int64  \n",
            " 27  smart_13_normalized   3 non-null      float64\n",
            " 28  smart_13_raw          3 non-null      float64\n",
            " 29  smart_15_normalized   0 non-null      float64\n",
            " 30  smart_15_raw          0 non-null      float64\n",
            " 31  smart_183_normalized  14040 non-null  float64\n",
            " 32  smart_183_raw         14040 non-null  float64\n",
            " 33  smart_184_normalized  14577 non-null  float64\n",
            " 34  smart_184_raw         14577 non-null  float64\n",
            " 35  smart_187_normalized  14577 non-null  float64\n",
            " 36  smart_187_raw         14577 non-null  float64\n",
            " 37  smart_188_normalized  14577 non-null  float64\n",
            " 38  smart_188_raw         14577 non-null  float64\n",
            " 39  smart_189_normalized  14573 non-null  float64\n",
            " 40  smart_189_raw         14573 non-null  float64\n",
            " 41  smart_190_normalized  14578 non-null  float64\n",
            " 42  smart_190_raw         14578 non-null  float64\n",
            " 43  smart_191_normalized  12682 non-null  float64\n",
            " 44  smart_191_raw         12682 non-null  float64\n",
            " 45  smart_192_normalized  36392 non-null  float64\n",
            " 46  smart_192_raw         36392 non-null  float64\n",
            " 47  smart_193_normalized  36238 non-null  float64\n",
            " 48  smart_193_raw         36238 non-null  float64\n",
            " 49  smart_194_normalized  38591 non-null  float64\n",
            " 50  smart_194_raw         38591 non-null  float64\n",
            " 51  smart_195_normalized  3021 non-null   float64\n",
            " 52  smart_195_raw         3021 non-null   float64\n",
            " 53  smart_196_normalized  24019 non-null  float64\n",
            " 54  smart_196_raw         24019 non-null  float64\n",
            " 55  smart_197_normalized  38592 non-null  int64  \n",
            " 56  smart_197_raw         38592 non-null  int64  \n",
            " 57  smart_198_normalized  38592 non-null  int64  \n",
            " 58  smart_198_raw         38592 non-null  int64  \n",
            " 59  smart_199_normalized  38592 non-null  int64  \n",
            " 60  smart_199_raw         38592 non-null  int64  \n",
            " 61  smart_200_normalized  1838 non-null   float64\n",
            " 62  smart_200_raw         1838 non-null   float64\n",
            " 63  smart_201_normalized  3 non-null      float64\n",
            " 64  smart_201_raw         3 non-null      float64\n",
            " 65  smart_223_normalized  154 non-null    float64\n",
            " 66  smart_223_raw         154 non-null    float64\n",
            " 67  smart_225_normalized  154 non-null    float64\n",
            " 68  smart_225_raw         154 non-null    float64\n",
            " 69  smart_240_normalized  14530 non-null  float64\n",
            " 70  smart_240_raw         14530 non-null  float64\n",
            " 71  smart_241_normalized  14508 non-null  float64\n",
            " 72  smart_241_raw         14508 non-null  float64\n",
            " 73  smart_242_normalized  14508 non-null  float64\n",
            " 74  smart_242_raw         14508 non-null  float64\n",
            " 75  smart_250_normalized  94 non-null     float64\n",
            " 76  smart_250_raw         94 non-null     float64\n",
            " 77  smart_251_normalized  94 non-null     float64\n",
            " 78  smart_251_raw         94 non-null     float64\n",
            " 79  smart_252_normalized  94 non-null     float64\n",
            " 80  smart_252_raw         94 non-null     float64\n",
            " 81  smart_254_normalized  205 non-null    float64\n",
            " 82  smart_254_raw         205 non-null    float64\n",
            " 83  smart_255_normalized  0 non-null      float64\n",
            " 84  smart_255_raw         0 non-null      float64\n",
            "dtypes: float64(58), int64(24), object(3)\n",
            "memory usage: 25.0+ MB\n",
            "None\n"
          ]
        }
      ]
    },
    {
      "cell_type": "code",
      "metadata": {
        "execution": {
          "iopub.status.busy": "2021-09-29T05:32:20.143825Z",
          "iopub.execute_input": "2021-09-29T05:32:20.144889Z",
          "iopub.status.idle": "2021-09-29T05:32:20.185722Z",
          "shell.execute_reply.started": "2021-09-29T05:32:20.144849Z",
          "shell.execute_reply": "2021-09-29T05:32:20.185125Z"
        },
        "trusted": true,
        "colab": {
          "base_uri": "https://localhost:8080/"
        },
        "id": "JJMwxhotD2O_",
        "outputId": "18a6a7b3-2f9b-4b12-9145-d9c99a62cdaf"
      },
      "source": [
        "# normalise the amount column\n",
        "# data['normAmount'] = StandardScaler().fit_transform(np.array(data['Amount']).reshape(-1, 1))\n",
        "\n",
        "# drop Time and Amount columns as they are not relevant for prediction purpose\n",
        "data = data.drop(['date', 'serial_number','model','capacity_bytes'], axis = 1)\n",
        "\n",
        "data['failure'].value_counts()\n",
        "print(data.info())"
      ],
      "execution_count": 4,
      "outputs": [
        {
          "output_type": "stream",
          "name": "stdout",
          "text": [
            "<class 'pandas.core.frame.DataFrame'>\n",
            "RangeIndex: 38592 entries, 0 to 38591\n",
            "Data columns (total 81 columns):\n",
            " #   Column                Non-Null Count  Dtype  \n",
            "---  ------                --------------  -----  \n",
            " 0   failure               38592 non-null  int64  \n",
            " 1   smart_1_normalized    38592 non-null  int64  \n",
            " 2   smart_1_raw           38592 non-null  int64  \n",
            " 3   smart_2_normalized    22335 non-null  float64\n",
            " 4   smart_2_raw           22335 non-null  float64\n",
            " 5   smart_3_normalized    38592 non-null  int64  \n",
            " 6   smart_3_raw           38592 non-null  int64  \n",
            " 7   smart_4_normalized    38592 non-null  int64  \n",
            " 8   smart_4_raw           38592 non-null  int64  \n",
            " 9   smart_5_normalized    38592 non-null  int64  \n",
            " 10  smart_5_raw           38592 non-null  int64  \n",
            " 11  smart_7_normalized    38592 non-null  int64  \n",
            " 12  smart_7_raw           38592 non-null  int64  \n",
            " 13  smart_8_normalized    22338 non-null  float64\n",
            " 14  smart_8_raw           22338 non-null  float64\n",
            " 15  smart_9_normalized    38592 non-null  int64  \n",
            " 16  smart_9_raw           38592 non-null  int64  \n",
            " 17  smart_10_normalized   38592 non-null  int64  \n",
            " 18  smart_10_raw          38592 non-null  int64  \n",
            " 19  smart_11_normalized   1838 non-null   float64\n",
            " 20  smart_11_raw          1838 non-null   float64\n",
            " 21  smart_12_normalized   38592 non-null  int64  \n",
            " 22  smart_12_raw          38592 non-null  int64  \n",
            " 23  smart_13_normalized   3 non-null      float64\n",
            " 24  smart_13_raw          3 non-null      float64\n",
            " 25  smart_15_normalized   0 non-null      float64\n",
            " 26  smart_15_raw          0 non-null      float64\n",
            " 27  smart_183_normalized  14040 non-null  float64\n",
            " 28  smart_183_raw         14040 non-null  float64\n",
            " 29  smart_184_normalized  14577 non-null  float64\n",
            " 30  smart_184_raw         14577 non-null  float64\n",
            " 31  smart_187_normalized  14577 non-null  float64\n",
            " 32  smart_187_raw         14577 non-null  float64\n",
            " 33  smart_188_normalized  14577 non-null  float64\n",
            " 34  smart_188_raw         14577 non-null  float64\n",
            " 35  smart_189_normalized  14573 non-null  float64\n",
            " 36  smart_189_raw         14573 non-null  float64\n",
            " 37  smart_190_normalized  14578 non-null  float64\n",
            " 38  smart_190_raw         14578 non-null  float64\n",
            " 39  smart_191_normalized  12682 non-null  float64\n",
            " 40  smart_191_raw         12682 non-null  float64\n",
            " 41  smart_192_normalized  36392 non-null  float64\n",
            " 42  smart_192_raw         36392 non-null  float64\n",
            " 43  smart_193_normalized  36238 non-null  float64\n",
            " 44  smart_193_raw         36238 non-null  float64\n",
            " 45  smart_194_normalized  38591 non-null  float64\n",
            " 46  smart_194_raw         38591 non-null  float64\n",
            " 47  smart_195_normalized  3021 non-null   float64\n",
            " 48  smart_195_raw         3021 non-null   float64\n",
            " 49  smart_196_normalized  24019 non-null  float64\n",
            " 50  smart_196_raw         24019 non-null  float64\n",
            " 51  smart_197_normalized  38592 non-null  int64  \n",
            " 52  smart_197_raw         38592 non-null  int64  \n",
            " 53  smart_198_normalized  38592 non-null  int64  \n",
            " 54  smart_198_raw         38592 non-null  int64  \n",
            " 55  smart_199_normalized  38592 non-null  int64  \n",
            " 56  smart_199_raw         38592 non-null  int64  \n",
            " 57  smart_200_normalized  1838 non-null   float64\n",
            " 58  smart_200_raw         1838 non-null   float64\n",
            " 59  smart_201_normalized  3 non-null      float64\n",
            " 60  smart_201_raw         3 non-null      float64\n",
            " 61  smart_223_normalized  154 non-null    float64\n",
            " 62  smart_223_raw         154 non-null    float64\n",
            " 63  smart_225_normalized  154 non-null    float64\n",
            " 64  smart_225_raw         154 non-null    float64\n",
            " 65  smart_240_normalized  14530 non-null  float64\n",
            " 66  smart_240_raw         14530 non-null  float64\n",
            " 67  smart_241_normalized  14508 non-null  float64\n",
            " 68  smart_241_raw         14508 non-null  float64\n",
            " 69  smart_242_normalized  14508 non-null  float64\n",
            " 70  smart_242_raw         14508 non-null  float64\n",
            " 71  smart_250_normalized  94 non-null     float64\n",
            " 72  smart_250_raw         94 non-null     float64\n",
            " 73  smart_251_normalized  94 non-null     float64\n",
            " 74  smart_251_raw         94 non-null     float64\n",
            " 75  smart_252_normalized  94 non-null     float64\n",
            " 76  smart_252_raw         94 non-null     float64\n",
            " 77  smart_254_normalized  205 non-null    float64\n",
            " 78  smart_254_raw         205 non-null    float64\n",
            " 79  smart_255_normalized  0 non-null      float64\n",
            " 80  smart_255_raw         0 non-null      float64\n",
            "dtypes: float64(58), int64(23)\n",
            "memory usage: 23.8 MB\n",
            "None\n"
          ]
        }
      ]
    },
    {
      "cell_type": "code",
      "metadata": {
        "execution": {
          "iopub.status.busy": "2021-09-29T05:32:26.008919Z",
          "iopub.execute_input": "2021-09-29T05:32:26.009911Z",
          "iopub.status.idle": "2021-09-29T05:32:26.062649Z",
          "shell.execute_reply.started": "2021-09-29T05:32:26.009857Z",
          "shell.execute_reply": "2021-09-29T05:32:26.061801Z"
        },
        "trusted": true,
        "colab": {
          "base_uri": "https://localhost:8080/"
        },
        "id": "qgW28O4DD2PB",
        "outputId": "165b9a0a-3103-4859-965d-f226cf625367"
      },
      "source": [
        "data.fillna(data.mean(), inplace=True)\n",
        "\n",
        "# data = data[[\"failure\",\"smart_1_normalized\",\"smart_2_normalized\",\"smart_3_normalized\",\"smart_4_normalized\"]]\n",
        "\n",
        "#take first 100000 rows with 5 column attributes\n",
        "data = data.loc[1:38000, [\"smart_1_normalized\",\"smart_3_normalized\",\"smart_4_normalized\",\"smart_5_normalized\",\"failure\"]]\n",
        "\n",
        "#change float to int\n",
        "data[\"smart_1_normalized\"] = data[\"smart_1_normalized\"].fillna(0.0).astype(int)\n",
        "data[\"smart_3_normalized\"] = data[\"smart_3_normalized\"].fillna(0.0).astype(int)\n",
        "data[\"smart_4_normalized\"] = data[\"smart_4_normalized\"].fillna(0.0).astype(int)\n",
        "data[\"smart_5_normalized\"] = data[\"smart_5_normalized\"].fillna(0.0).astype(int)\n",
        "\n",
        "print(data)\n",
        "\n",
        "#print how many nan values present \n",
        "# print(data[\"failure\"].isnull().sum())\n",
        "\n",
        "#display how much data is failure or success\n",
        "data['failure'].value_counts()"
      ],
      "execution_count": 5,
      "outputs": [
        {
          "output_type": "stream",
          "name": "stdout",
          "text": [
            "       smart_1_normalized  smart_3_normalized  ...  smart_5_normalized  failure\n",
            "1                     100                 127  ...                 100        0\n",
            "2                     100                 124  ...                 100        0\n",
            "3                     100                 137  ...                 100        0\n",
            "4                     200                 195  ...                 200        0\n",
            "5                     100                 131  ...                 100        0\n",
            "...                   ...                 ...  ...                 ...      ...\n",
            "37996                 118                  97  ...                 100        0\n",
            "37997                 100                 124  ...                 100        0\n",
            "37998                 100                 126  ...                 100        0\n",
            "37999                 100                 100  ...                 100        0\n",
            "38000                 105                  94  ...                 100        0\n",
            "\n",
            "[38000 rows x 5 columns]\n"
          ]
        },
        {
          "output_type": "execute_result",
          "data": {
            "text/plain": [
              "0    37992\n",
              "1        8\n",
              "Name: failure, dtype: int64"
            ]
          },
          "metadata": {},
          "execution_count": 5
        }
      ]
    },
    {
      "cell_type": "code",
      "metadata": {
        "execution": {
          "iopub.status.busy": "2021-09-29T05:33:23.608741Z",
          "iopub.execute_input": "2021-09-29T05:33:23.609034Z",
          "iopub.status.idle": "2021-09-29T05:33:23.625146Z",
          "shell.execute_reply.started": "2021-09-29T05:33:23.609006Z",
          "shell.execute_reply": "2021-09-29T05:33:23.623836Z"
        },
        "trusted": true,
        "colab": {
          "base_uri": "https://localhost:8080/"
        },
        "id": "WYS0Xty6D2PD",
        "outputId": "f3b5cdb6-4fe1-4b6e-9b8f-f221be999766"
      },
      "source": [
        "from sklearn.model_selection import train_test_split\n",
        "X = data[[\"smart_1_normalized\",\"smart_3_normalized\",\"smart_4_normalized\",\"smart_5_normalized\"]]\n",
        "y=data[\"failure\"]\n",
        "\n",
        "# split into 70:30 ration\n",
        "X_train, X_test, y_train, y_test = train_test_split(X, y, test_size = 0.3, random_state = 0)\n",
        "\n",
        "# describes info about train and test set\n",
        "print(\"Number transactions X_train dataset: \", X_train.shape)\n",
        "print(\"Number transactions y_train dataset: \", y_train.shape)\n",
        "print(\"Number transactions X_test dataset: \", X_test.shape)\n",
        "print(\"Number transactions y_test dataset: \", y_test.shape)"
      ],
      "execution_count": 6,
      "outputs": [
        {
          "output_type": "stream",
          "name": "stdout",
          "text": [
            "Number transactions X_train dataset:  (26600, 4)\n",
            "Number transactions y_train dataset:  (26600,)\n",
            "Number transactions X_test dataset:  (11400, 4)\n",
            "Number transactions y_test dataset:  (11400,)\n"
          ]
        }
      ]
    },
    {
      "cell_type": "code",
      "metadata": {
        "execution": {
          "iopub.status.busy": "2021-09-29T05:33:27.271724Z",
          "iopub.execute_input": "2021-09-29T05:33:27.272030Z",
          "iopub.status.idle": "2021-09-29T05:33:27.522214Z",
          "shell.execute_reply.started": "2021-09-29T05:33:27.271999Z",
          "shell.execute_reply": "2021-09-29T05:33:27.521308Z"
        },
        "trusted": true,
        "colab": {
          "base_uri": "https://localhost:8080/"
        },
        "id": "1bYgCijND2PF",
        "outputId": "c7e8f68c-3f0c-4ff5-be67-b287b885e875"
      },
      "source": [
        "# print(data)\n",
        "\n",
        "# print(data.info())\n",
        "import warnings\n",
        "warnings.filterwarnings(\"ignore\")\n",
        "# logistic regression object\n",
        "lr = LogisticRegression()\n",
        "\n",
        "# train the model on train set\n",
        "lr.fit(X_train, y_train.ravel())\n",
        "\n",
        "predictions = lr.predict(X_test)\n",
        "\n",
        "# print classification report\n",
        "print(classification_report(y_test, predictions))"
      ],
      "execution_count": 10,
      "outputs": [
        {
          "output_type": "stream",
          "name": "stdout",
          "text": [
            "              precision    recall  f1-score   support\n",
            "\n",
            "           0       1.00      1.00      1.00     11399\n",
            "           1       0.00      0.00      0.00         1\n",
            "\n",
            "    accuracy                           1.00     11400\n",
            "   macro avg       0.50      0.50      0.50     11400\n",
            "weighted avg       1.00      1.00      1.00     11400\n",
            "\n"
          ]
        }
      ]
    },
    {
      "cell_type": "code",
      "metadata": {
        "execution": {
          "iopub.status.busy": "2021-09-29T05:34:34.711415Z",
          "iopub.execute_input": "2021-09-29T05:34:34.711707Z",
          "iopub.status.idle": "2021-09-29T05:34:35.002932Z",
          "shell.execute_reply.started": "2021-09-29T05:34:34.711679Z",
          "shell.execute_reply": "2021-09-29T05:34:35.001914Z"
        },
        "trusted": true,
        "colab": {
          "base_uri": "https://localhost:8080/"
        },
        "id": "7SnHi4epD2PH",
        "outputId": "af7337cd-1b88-495a-c9bd-ff887cd98833"
      },
      "source": [
        "import warnings\n",
        "warnings.filterwarnings(\"ignore\")\n",
        "\n",
        "print(\"Before OverSampling, counts of label '1': {}\".format(sum(y_train == 1)))\n",
        "print(\"Before OverSampling, counts of label '0': {} \\n\".format(sum(y_train == 0)))\n",
        "\n",
        "# import SMOTE module from imblearn library\n",
        "# pip install imblearn (if you don't have imblearn in your system)\n",
        "from imblearn.over_sampling import SMOTE\n",
        "sm = SMOTE(random_state = 2)\n",
        "X_train_res, y_train_res = sm.fit_resample(X_train, y_train.ravel())\n",
        "\n",
        "print('After OverSampling, the shape of train_X: {}'.format(X_train_res.shape))\n",
        "print('After OverSampling, the shape of train_y: {} \\n'.format(y_train_res.shape))\n",
        "\n",
        "print(\"After OverSampling, counts of label '1': {}\".format(sum(y_train_res == 1)))\n",
        "print(\"After OverSampling, counts of label '0': {}\".format(sum(y_train_res == 0)))"
      ],
      "execution_count": 11,
      "outputs": [
        {
          "output_type": "stream",
          "name": "stdout",
          "text": [
            "Before OverSampling, counts of label '1': 7\n",
            "Before OverSampling, counts of label '0': 26593 \n",
            "\n",
            "After OverSampling, the shape of train_X: (53186, 4)\n",
            "After OverSampling, the shape of train_y: (53186,) \n",
            "\n",
            "After OverSampling, counts of label '1': 26593\n",
            "After OverSampling, counts of label '0': 26593\n"
          ]
        }
      ]
    },
    {
      "cell_type": "code",
      "metadata": {
        "execution": {
          "iopub.status.busy": "2021-09-29T05:34:55.527974Z",
          "iopub.execute_input": "2021-09-29T05:34:55.528782Z",
          "iopub.status.idle": "2021-09-29T05:34:55.793004Z",
          "shell.execute_reply.started": "2021-09-29T05:34:55.528735Z",
          "shell.execute_reply": "2021-09-29T05:34:55.792128Z"
        },
        "trusted": true,
        "colab": {
          "base_uri": "https://localhost:8080/"
        },
        "id": "T6JZANMQD2PJ",
        "outputId": "5136896a-f6a2-4c79-a027-a9087203b597"
      },
      "source": [
        "lr1 = LogisticRegression()\n",
        "lr1.fit(X_train_res, y_train_res.ravel())\n",
        "predictions = lr1.predict(X_test)\n",
        "\n",
        "# print classification report\n",
        "print(classification_report(y_test, predictions))\n"
      ],
      "execution_count": 9,
      "outputs": [
        {
          "output_type": "stream",
          "name": "stdout",
          "text": [
            "              precision    recall  f1-score   support\n",
            "\n",
            "           0       1.00      0.50      0.67     11399\n",
            "           1       0.00      1.00      0.00         1\n",
            "\n",
            "    accuracy                           0.50     11400\n",
            "   macro avg       0.50      0.75      0.33     11400\n",
            "weighted avg       1.00      0.50      0.67     11400\n",
            "\n"
          ]
        }
      ]
    }
  ]
}